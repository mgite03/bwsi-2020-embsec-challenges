{
 "cells": [
  {
   "cell_type": "markdown",
   "metadata": {},
   "source": [
    "# Design\n",
    "\n"
   ]
  },
  {
   "cell_type": "markdown",
   "metadata": {},
   "source": [
    "### Challenge Name: fw_protect (/embsec/design/fw_protect)\n",
    "\n",
    "The purpose of this tool will be to secure the firmware. Eventually,\n",
    "you will want to keep the firmware confidential and be able to verify its integrity and authenticity. But for now, \n",
    "you will implement a firmware protect tool that does not add security. This tool should simply:\n",
    "\n",
    "    1. Pack the version \"0\" into a little-endian short\n",
    "    2. Load the firmware binary from firmware.bin\n",
    "    3. Pack the size of the firmware into a little-endian short\n",
    "    4. Append the release message \"First version of firmware.\" to end of firmware (make sure it is null-terminated)\n",
    "    5. Build and send a binary blob in the following format to the grader:\n",
    "    \n",
    "        [ 0x2 ]      [ 0x2 ]      [ variable ]           [ variable ]\n",
    "        -------------------------------------------------------------------------\n",
    "        version | firmware size |   firmware   |   release message + null-byte   \n",
    "\n",
    "\n"
   ]
  },
  {
   "cell_type": "code",
   "execution_count": 1,
   "metadata": {},
   "outputs": [
    {
     "name": "stdout",
     "output_type": "stream",
     "text": [
      "updated!\n",
      "more updated!\n"
     ]
    },
    {
     "data": {
      "text/plain": [
       "b'embsec{fw_protect_abf414be6977aaeb}\\n'"
      ]
     },
     "execution_count": 1,
     "metadata": {},
     "output_type": "execute_result"
    }
   ],
   "source": [
    "from embsec import Serial\n",
    "import struct\n",
    "\n",
    "def fw_protect():\n",
    "    ser = Serial(\"/embsec/design/fw_protect\")\n",
    "    # Your code goes here!\n",
    "    \n",
    "    \n",
    "    with open(\"firmware_0.bin\", \"rb\") as f:\n",
    "        file_contents = f.read() \n",
    "        \n",
    "    size = len(file_contents)\n",
    "    release_message = 'First version of firmware.'.encode() + b'\\0'\n",
    "    \n",
    "    \n",
    "    update = struct.pack('<hh', 0,size)\n",
    "    firm_write = file_contents + release_message \n",
    "    \n",
    "    \n",
    "    ser.write(update)\n",
    "    print(\"updated!\")\n",
    "    ser.write(firm_write)\n",
    "    print(\"more updated!\")\n",
    "    \n",
    "    return ser.read_until()\n",
    "\n",
    "fw_protect()\n"
   ]
  },
  {
   "cell_type": "markdown",
   "metadata": {},
   "source": [
    "### Challenge Name: fw_update (/embsec/design/fw_update)\n",
    "\n",
    "For this lesson you will implement a basic update tool for the design challenge.\n",
    "The tool will be used to update the device firmware. You should focus on reading in the firmware blob file, \n",
    "and constructing a set of frames to send to the bootloader. Pay attention to the structure of these \n",
    "frames, as the bootloader is expecting a certain size and format.\n",
    "\n",
    "The bootloader is expecting frames of the following format:\n",
    "\n",
    "      [ 0x2 ]    [ variable ]\n",
    "    ----------------------------\n",
    "    frame size |   data... \n",
    "\n",
    "Process:\n",
    "\n",
    "1. Read in binary blob\n",
    "2. Construct frames from blob\n",
    "3. Send a 'U' for update mode & receive a confirmation 'U'\n",
    "4. Send frames sequentially to boot loader\n",
    "\n"
   ]
  },
  {
   "cell_type": "code",
   "execution_count": 3,
   "metadata": {},
   "outputs": [
    {
     "name": "stdout",
     "output_type": "stream",
     "text": [
      "file read in!\n",
      "confirmation message sent!\n",
      "u recieved!\n",
      "metadata recieved!\n",
      "frame wrote!\n",
      "frame wrote!\n",
      "frame wrote!\n",
      "end frame sent!\n"
     ]
    },
    {
     "data": {
      "text/plain": [
       "b'\\x00embsec{fw_update_1e2e37bafe98506a}\\n'"
      ]
     },
     "execution_count": 3,
     "metadata": {},
     "output_type": "execute_result"
    }
   ],
   "source": [
    "#we have to finish it off by sending a packet with size 0\n",
    "\n",
    "#frame_size is a short\n",
    "\n",
    "\n",
    "from embsec import Serial\n",
    "\n",
    "def fw_update():\n",
    "    ser = Serial(\"/embsec/design/fw_update\")\n",
    "    # Your code goes here!\n",
    "\n",
    "    with open(\"firmware_1.blob\", \"rb\") as f:\n",
    "        file_contents = f.read() \n",
    "    print(\"file read in!\")\n",
    "\n",
    "    \n",
    "    ser.write(b'U')\n",
    "    print(\"confirmation message sent!\")\n",
    "    \n",
    "\n",
    "    while ser.read() != b'U':\n",
    "        pass\n",
    "    print(\"u recieved!\")\n",
    "  \n",
    "\n",
    "    ser.write(file_contents[:4])\n",
    "    file_contents = file_contents[4:]\n",
    "    print(\"metadata recieved!\")\n",
    "    \n",
    "    \n",
    "    for i in range(0, len(file_contents),32):\n",
    "        while ser.read() != b'\\0':\n",
    "            pass\n",
    "        \n",
    "        file_chunk = file_contents[i:i+32]\n",
    "        frame_size = len(file_chunk)\n",
    "        frame = struct.pack('>h32s',frame_size, file_chunk)\n",
    "        \n",
    "        ser.write(frame)\n",
    "        print(\"frame wrote!\")\n",
    "        \n",
    "      \n",
    "    end_frame = struct.pack('<h', 0)\n",
    "    ser.write(end_frame)\n",
    "    print(\"end frame sent!\")\n",
    "    return ser.read_until()\n",
    "\n",
    "fw_update()\n"
   ]
  },
  {
   "cell_type": "code",
   "execution_count": null,
   "metadata": {},
   "outputs": [],
   "source": []
  }
 ],
 "metadata": {
  "kernelspec": {
   "display_name": "Python 3",
   "language": "python",
   "name": "python3"
  },
  "language_info": {
   "codemirror_mode": {
    "name": "ipython",
    "version": 3
   },
   "file_extension": ".py",
   "mimetype": "text/x-python",
   "name": "python",
   "nbconvert_exporter": "python",
   "pygments_lexer": "ipython3",
   "version": "3.7.6"
  }
 },
 "nbformat": 4,
 "nbformat_minor": 4
}
