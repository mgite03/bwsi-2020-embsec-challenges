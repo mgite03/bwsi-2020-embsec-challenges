{
 "cells": [
  {
   "cell_type": "markdown",
   "metadata": {},
   "source": [
    "# Io python\n",
    "\n",
    "In this lesson you will learn about the IO functions of Python.\n",
    "This will enable you to read and write files as well as \n",
    "read and write to serial devices such as the secure bootloader \n",
    "you are designing during this course. A series of challenges\n",
    "follow which will require you to read Python documentation\n",
    "as well as other online resources. Good luck!"
   ]
  },
  {
   "cell_type": "markdown",
   "metadata": {},
   "source": [
    "### Challenge Name: echo_int (/embsec/io_python/echo_int)\n",
    "\n",
    "\n",
    "    1. Read a big-endian short from the serial device\n",
    "    2. Increment the integer by 1\n",
    "    3. Send the integer as a big-endian short back to the serial device\n",
    "\n",
    "Resources:\n",
    "\n",
    "<https://en.wikipedia.org/wiki/Endianness>\n",
    "\n",
    "<https://en.wikipedia.org/wiki/Integer_%28computer_science%29>\n",
    "\n",
    "<https://docs.python.org/3/library/struct.html>\n",
    "\n",
    "\n"
   ]
  },
  {
   "cell_type": "code",
   "execution_count": 2,
   "metadata": {},
   "outputs": [
    {
     "name": "stdout",
     "output_type": "stream",
     "text": [
      "bytearray(b'\\x00D')\n",
      "68\n",
      "69\n"
     ]
    },
    {
     "data": {
      "text/plain": [
       "b'embsec{echo_int_43af38924f43beff}\\n'"
      ]
     },
     "execution_count": 2,
     "metadata": {},
     "output_type": "execute_result"
    }
   ],
   "source": [
    "from embsec import Serial\n",
    "import struct\n",
    "\n",
    "def echo_int():\n",
    "    ser = Serial(\"/embsec/io_python/echo_int\")\n",
    "    # Your code goes here!\n",
    "    \n",
    "    x = ser.read(2)\n",
    "    print(x)\n",
    "    int_tuple = struct.unpack('>h', x) #unpack returns a tuple!!!\n",
    "    print(int_tuple[0])\n",
    "    integer = int_tuple[0] + 1\n",
    "    print(integer)\n",
    "\n",
    "    packed_int = struct.pack('>h', integer)\n",
    "    ser.write(packed_int)\n",
    "    \n",
    "    return ser.read_until()\n",
    "\n",
    "echo_int()\n"
   ]
  },
  {
   "cell_type": "markdown",
   "metadata": {},
   "source": [
    "### Challenge Name: send_file (/embsec/io_python/send_file)\n",
    "\n",
    "\n",
    "\n",
    "    1. Read 'file.bin' from your local system\n",
    "    2. Calculate the size\n",
    "    3. Send the size as a little-endian short\n",
    "    4. Send the file to serial device\n",
    "\n",
    "    The serial device expects a little-endian short indicating the size of the\n",
    "    incoming data and then size bytes of data. The format is represented below:\n",
    "    \n",
    "    [ 0x02 ]  [ variable ]\n",
    "    ---------------------\n",
    "    | Length |  Data... |\n",
    "    ---------------------\n",
    "\n",
    "Resources:\n",
    "\n",
    "<https://en.wikipedia.org/wiki/Endianness>\n",
    "\n",
    "<https://en.wikipedia.org/wiki/Integer_%28computer_science%29>\n",
    "\n",
    "<https://docs.python.org/3/library/struct.html>\n",
    "\n",
    "<https://docs.python.org/3/tutorial/inputoutput.html>\n",
    "\n"
   ]
  },
  {
   "cell_type": "code",
   "execution_count": 9,
   "metadata": {},
   "outputs": [
    {
     "data": {
      "text/plain": [
       "b'embsec{send_file_278426d2ff36cbbb}\\n'"
      ]
     },
     "execution_count": 9,
     "metadata": {},
     "output_type": "execute_result"
    }
   ],
   "source": [
    "from embsec import Serial\n",
    "import struct\n",
    "\n",
    "def send_file():\n",
    "    ser = Serial(\"/embsec/io_python/send_file\")\n",
    "    # Your code goes here!\n",
    "    \n",
    "    with open(\"file.bin\", \"rb\") as f:\n",
    "        file_contents = f.read() #a byte array\n",
    "        \n",
    "    file_size = len(file_contents)\n",
    "    \n",
    "    packed = struct.pack('<h', file_size) #also a byte array, can concatenate byte arrays\n",
    "    packed += file_contents\n",
    "    \n",
    "    ser.write(packed)\n",
    "    \n",
    "    return ser.read_until()\n",
    "\n",
    "send_file()\n"
   ]
  },
  {
   "cell_type": "markdown",
   "metadata": {},
   "source": [
    "### Challenge Name: send_large_file (/embsec/io_python/send_large_file)\n",
    "\n",
    "\n",
    "    1. Read 'large_file.bin' from your local system\n",
    "    3. Send the data in frames to the serial device (frame format below)\n",
    "    4. Send zero-length frame to indicate end of transmission\n",
    "\n",
    "    The serial device expects that a frame begins with a little-endian short \n",
    "    indicating the size of the frame and then frame data. The maximum frame \n",
    "    size is 16 bytes. The frame format is represented below:\n",
    "    \n",
    "    [ 0x02 ]  [ up to 0xE bytes ]\n",
    "    ----------------------------\n",
    "    | Length |      Data...    |\n",
    "    ----------------------------\n",
    "    \n",
    "Resources:\n",
    "<https://en.wikipedia.org/wiki/Endianness>\n",
    "<https://en.wikipedia.org/wiki/Integer_%28computer_science%29>\n",
    "<https://docs.python.org/3/library/struct.html>\n",
    "<https://docs.python.org/3/tutorial/inputoutput.html>\n",
    "<https://pyserial.readthedocs.io/en/latest/shortintro.html>\n",
    "\n"
   ]
  },
  {
   "cell_type": "code",
   "execution_count": 3,
   "metadata": {},
   "outputs": [
    {
     "name": "stderr",
     "output_type": "stream",
     "text": [
      "Process SendLargeFile-3:\n",
      "Traceback (most recent call last):\n",
      "  File \"/opt/conda/lib/python3.7/multiprocessing/process.py\", line 297, in _bootstrap\n",
      "    self.run()\n",
      "  File \"/opt/conda/lib/python3.7/site-packages/core/challenge.py\", line 73, in run\n",
      "    self.grader(*self.grader_pttys)\n",
      "  File \"/opt/conda/lib/python3.7/site-packages/embsec/lessons/io_python/io_python.py\", line 140, in send_large_file_grader\n",
      "    frame_size, = struct.unpack(\"<H\", ser.read(1))\n",
      "  File \"/opt/conda/lib/python3.7/site-packages/core/pseudo_serial.py\", line 111, in read\n",
      "    d = self._inq.get(timeout=timeout)\n",
      "  File \"/opt/conda/lib/python3.7/multiprocessing/queues.py\", line 94, in get\n",
      "    res = self._recv_bytes()\n",
      "  File \"/opt/conda/lib/python3.7/multiprocessing/connection.py\", line 216, in recv_bytes\n",
      "    buf = self._recv_bytes(maxlength)\n",
      "  File \"/opt/conda/lib/python3.7/multiprocessing/connection.py\", line 407, in _recv_bytes\n",
      "    buf = self._recv(4)\n",
      "  File \"/opt/conda/lib/python3.7/multiprocessing/connection.py\", line 379, in _recv\n",
      "    chunk = read(handle, remaining)\n",
      "KeyboardInterrupt\n"
     ]
    }
   ],
   "source": [
    "from embsec import Serial\n",
    "\n",
    "def send_large_file():\n",
    "    ser = Serial(\"/embsec/io_python/send_large_file\")\n",
    "    # Your code goes here!\n",
    "\n",
    "send_large_file()\n"
   ]
  }
 ],
 "metadata": {
  "kernelspec": {
   "display_name": "Python 3",
   "language": "python",
   "name": "python3"
  },
  "language_info": {
   "codemirror_mode": {
    "name": "ipython",
    "version": 3
   },
   "file_extension": ".py",
   "mimetype": "text/x-python",
   "name": "python",
   "nbconvert_exporter": "python",
   "pygments_lexer": "ipython3",
   "version": "3.7.6"
  }
 },
 "nbformat": 4,
 "nbformat_minor": 4
}
