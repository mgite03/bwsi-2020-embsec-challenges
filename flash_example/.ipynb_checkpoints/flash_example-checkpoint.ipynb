{
 "cells": [
  {
   "cell_type": "markdown",
   "metadata": {},
   "source": [
    "# Flash example\n",
    "\n",
    "\n",
    "This lesson provides a peripheral programming example that accompanies the\n",
    "Flash example from the datasheet lecture. \n"
   ]
  },
  {
   "cell_type": "markdown",
   "metadata": {},
   "source": [
    "### Challenge Name: flash_example (/embsec/flash_example/flash_example)\n",
    "\n",
    "\n",
    "The code for writing and checking Flash memory can be found in `flash_example.c`.\n",
    "The code follows the process described in the lecture, using the register definitions\n",
    "and bit field definitions from the Stellaris library.\n",
    "\n"
   ]
  },
  {
   "cell_type": "code",
   "execution_count": 1,
   "metadata": {},
   "outputs": [
    {
     "name": "stdout",
     "output_type": "stream",
     "text": [
      "UART2 >> bytearray(b'Flash value at address 00000C00: 12345678.   Flash value at address 00000C04: DEADBEEF.   Flash valu')\n",
      "UART2 >> bytearray(b'e at address 00000C08: BAD01234.   Flash value at address 00000C0C: ABCDEF00.   \\n')\n",
      "UART2 >> bytearray(b'embsec{flash_example_ccba1e5af61e269f}\\n')\n"
     ]
    },
    {
     "data": {
      "text/plain": [
       "b'embsec{flash_example_ccba1e5af61e269f}\\n'"
      ]
     },
     "execution_count": 1,
     "metadata": {},
     "output_type": "execute_result"
    }
   ],
   "source": [
    "import embsec\n",
    "import subprocess\n",
    "from core.util import extract_flag\n",
    "\n",
    "def flash_example():\n",
    "    subprocess.check_output([f'(cd flash_example && make CHALLENGE=flash_example)'], shell=True)\n",
    "    resp0, resp1, resp2 = embsec.grade_emulated(f'./flash_example/gcc/main.bin', f'/embsec/flash_example/flash_example')\n",
    "    stdout, stdin = resp2\n",
    "    return (extract_flag(stdout))\n",
    "    \n",
    "flash_example()\n",
    "\n"
   ]
  },
  {
   "cell_type": "code",
   "execution_count": null,
   "metadata": {},
   "outputs": [],
   "source": []
  }
 ],
 "metadata": {
  "kernelspec": {
   "display_name": "Python 3",
   "language": "python",
   "name": "python3"
  },
  "language_info": {
   "codemirror_mode": {
    "name": "ipython",
    "version": 3
   },
   "file_extension": ".py",
   "mimetype": "text/x-python",
   "name": "python",
   "nbconvert_exporter": "python",
   "pygments_lexer": "ipython3",
   "version": "3.7.6"
  }
 },
 "nbformat": 4,
 "nbformat_minor": 4
}
