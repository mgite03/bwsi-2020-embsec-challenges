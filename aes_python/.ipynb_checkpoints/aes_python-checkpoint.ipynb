{
 "cells": [
  {
   "cell_type": "markdown",
   "metadata": {},
   "source": [
    "# Aes python\n",
    "\n",
    " In this lesson you will learn how to use the Python library\n",
    "PyCryptodome to encrypt and decrypt with the AES algorithm. This\n",
    "lesson requires an understanding of Python IO, byte manipulation,\n",
    "and endianess. Good luck!\n"
   ]
  },
  {
   "cell_type": "markdown",
   "metadata": {},
   "source": [
    "### Challenge Name: aes_decrypt (/embsec/aes_python/aes_decrypt)\n",
    "\n",
    "\n",
    "    The serial device is sending you a message encrypted with the key\n",
    "    stored in aeskeyfile.bin. The message is in the following format:\n",
    "       \n",
    "    [ 0x10 ] [      0x2      ] [ variable...]\n",
    "    ----------------------------------------\n",
    "    |  IV   | Ciphertext Size | Ciphertext |\n",
    "    ----------------------------------------\n",
    "    \n",
    "    1. Read the AES key from 'aeskeyfile0.bin'\n",
    "    2. Read the 16 byte initialization vector (IV) from the serial device\n",
    "    3. Read the ciphertext size (formatted as a little-endian short) from the serial device\n",
    "    4. Read the ciphertext from the serial device\n",
    "    5. Decrypt the ciphertext using 128-bit AES in CBC mode\n",
    "    \n",
    "Resources:\n",
    "\n",
    "<https://docs.python.org/3/library/struct.html>\n",
    "\n",
    "<https://pycryptodome.readthedocs.io/en/latest/src/cipher/aes.html>\n",
    "\n"
   ]
  },
  {
   "cell_type": "code",
   "execution_count": 9,
   "metadata": {},
   "outputs": [
    {
     "name": "stdout",
     "output_type": "stream",
     "text": [
      "b'\\x90T\\xbf\\xb7Q\\xec\\xdd8\\xda\\xa2O\\x12|U\\\\?a>F\\xbe:\\x92\\xe4*64b\\x1bz\\xe9P\\xcf\\x9c\\x06;\\xd6\\xc1I\\x93\\x9ekC\\xcf\\x02\\xa8\\xf0p\\xb3'\n"
     ]
    },
    {
     "data": {
      "text/plain": [
       "b'embsec{aes_decrypt_5b0bfc68f6cd7692}\\n\\x0b\\x0b\\x0b\\x0b\\x0b\\x0b\\x0b\\x0b\\x0b\\x0b\\x0b'"
      ]
     },
     "execution_count": 9,
     "metadata": {},
     "output_type": "execute_result"
    }
   ],
   "source": [
    "from Crypto.Cipher import AES\n",
    "import struct\n",
    "from embsec import Serial\n",
    "\n",
    "def aes_decrypt():\n",
    "    ser = Serial(\"/embsec/aes_python/aes_decrypt\")\n",
    "    # Your code goes here!\n",
    "\n",
    "    with open(\"aeskeyfile0.bin\", \"rb\") as f:\n",
    "        aes_key0 = f.read()\n",
    "    IV = ser.read(16)\n",
    "    ciphertext_size_tuple = struct.unpack('<h', ser.read(2))\n",
    "    ciphertext_size = ciphertext_size_tuple[0]\n",
    "    ciphertext = struct.unpack('<{}s'.format(ciphertext_size), ser.read(ciphertext_size))[0]#bc unpack returns a tuple!\n",
    "    \n",
    "    \n",
    "    print(ciphertext)\n",
    "    cipher = AES.new(aes_key0, AES.MODE_CBC, iv = IV)\n",
    "    plaintext = cipher.decrypt(ciphertext)\n",
    "    \n",
    "    return plaintext\n",
    "    #with blocks, you gotta have full blocks, so pyCryptoDome pads  - - you can unpad importing some stuff\n",
    "    #Crypto.Util.Padding import unpad\n",
    "\n",
    "    \n",
    "    \n",
    "aes_decrypt()\n"
   ]
  },
  {
   "cell_type": "markdown",
   "metadata": {},
   "source": [
    "### Challenge Name: aes_encrypt_file (/embsec/aes_python/aes_encrypt_file)\n",
    "\n",
    "\n",
    "    You need to send an encrypted message to the serial device. Encrypt\n",
    "    the contents of 'plaintext.bin' with the key found in 'aeskeyfile.bin' \n",
    "    and a random IV. The message needs to be formatted as follows:\n",
    "    \n",
    "    [ 0x10 ] [      0x2      ] [ variable...]\n",
    "    ----------------------------------------\n",
    "    |  IV   | Ciphertext Size | Ciphertext |\n",
    "    ----------------------------------------\n",
    "\n",
    "    1. Read the AES key from 'aeskeyfile1.bin'\n",
    "    2. Encrypt the plaintext located in 'plaintext.bin'\n",
    "    3. Send the IV to the serial device\n",
    "    4. Send the ciphertext size (formatted as a little-endian short) to the serial device\n",
    "    5. Send the ciphertext to the serial device\n",
    "    6. Read the response\n",
    "\n",
    "Resources:\n",
    "\n",
    "<https://docs.python.org/3/library/struct.html>\n",
    "\n",
    "<https://pycryptodome.readthedocs.io/en/latest/src/cipher/aes.html>\n",
    "\n",
    "\n"
   ]
  },
  {
   "cell_type": "code",
   "execution_count": null,
   "metadata": {},
   "outputs": [],
   "source": [
    "from Crypto.Cipher import AES\n",
    "import struct\n",
    "from embsec import Serial\n",
    "\n",
    "def aes_encrypt_file():\n",
    "    ser = Serial(\"/embsec/aes_python/aes_encrypt_file\")\n",
    "    # Your code goes here!\n",
    "    with open(\"aeskeyfile1.bin\", \"rb\") as f:\n",
    "        aes_key1 = f.read()\n",
    "        \n",
    "    with open(\"plaintext.txt\", \"rb\") as f:\n",
    "        aes_key1 = f.read()\n",
    "        \n",
    "    cipher = AES.new(aes_key1, AES.MODE_CBC)\n",
    "        \n",
    "    \n",
    "\n",
    "aes_encrypt_file()\n"
   ]
  },
  {
   "cell_type": "markdown",
   "metadata": {},
   "source": [
    "### Challenge Name: aes_encrypted_echo (/embsec/aes_python/aes_encrypted_echo)\n",
    "\n",
    "\n",
    "    The serial device is sending you an encrypted message. Decrypt\n",
    "    the message and send it back encrypt with a different IV. The \n",
    "    message needs to be formatted as follows:\n",
    "    \n",
    "    [ 0x10 ] [      0x2      ] [ variable...]\n",
    "    ----------------------------------------\n",
    "    |  IV   | Ciphertext Size | Ciphertext |\n",
    "    ----------------------------------------\n",
    "    \n",
    "    1. Read the AES key from 'aeskeyfile2.bin'\n",
    "    2. Read the 16 byte initialization vector (IV) from the serial device\n",
    "    3. Read the ciphertext size (formatted as a little-endian short) from the serial device\n",
    "    4. Read the ciphertext from the serial device\n",
    "    5. Decrypt the ciphertext using 128-bit AES in CBC mode\n",
    "    2. Re-encrypt the plaintext with the same key but a new IV\n",
    "    3. Send the IV to the serial device\n",
    "    4. Send the ciphertext size (formatted as a little-endian short) to the serial device\n",
    "    5. Send the ciphertext to the serial device\n",
    "    6. Read the response\n",
    "\n",
    "\n"
   ]
  },
  {
   "cell_type": "code",
   "execution_count": null,
   "metadata": {},
   "outputs": [],
   "source": [
    "from embsec import Serial\n",
    "\n",
    "def aes_encrypted_echo():\n",
    "    ser = Serial(\"/embsec/aes_python/aes_encrypted_echo\")\n",
    "    # Your code goes here!\n",
    "\n",
    "aes_encrypted_echo()\n"
   ]
  }
 ],
 "metadata": {
  "kernelspec": {
   "display_name": "Python 3",
   "language": "python",
   "name": "python3"
  },
  "language_info": {
   "codemirror_mode": {
    "name": "ipython",
    "version": 3
   },
   "file_extension": ".py",
   "mimetype": "text/x-python",
   "name": "python",
   "nbconvert_exporter": "python",
   "pygments_lexer": "ipython3",
   "version": "3.7.6"
  }
 },
 "nbformat": 4,
 "nbformat_minor": 4
}
