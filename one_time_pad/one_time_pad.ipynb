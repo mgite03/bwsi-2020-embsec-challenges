{
 "cells": [
  {
   "cell_type": "markdown",
   "metadata": {},
   "source": [
    "# One time pad\n",
    "\n",
    "This lab covers an security flaw that arises in the one time pad when the same pad is used more than once. When \n",
    "two messages are XORed with the same pad, you can XOR the ciphertexts together to get rid of the pad entirely. Use \n",
    "this lab to explore how to XOR two strings, and then crack this poor implementation of the \"Two time pad.\" "
   ]
  },
  {
   "cell_type": "markdown",
   "metadata": {},
   "source": [
    "### Challenge Name: xor (/embsec/one_time_pad/xor)\n",
    "\n",
    "\n",
    "The XOR operation is very common in cryptography and security, since it is very useful and also very fast. It's used in\n",
    "many algorithms, including AES and the one time pad. Here, use the Python bitwise XOR to XOR two strings together.\n",
    "    \n",
    "    1. Read in two byte strings of length 16 from the serial device\n",
    "    2. Do a bitwise XOR on each character\n",
    "    3. Make a byte string out of the XORed result of each pair of characters\n",
    "    4. Send the byte string back over the serial\n",
    "\n",
    "Resources:\n",
    "<https://python-reference.readthedocs.io/en/latest/docs/operators/bitwise_XOR.html>\n",
    "\n",
    "Additional resources (For the one-line solution. Do this AFTER completing it for the first time if you want an added challenge):\n",
    "<https://docs.python.org/3.3/library/functions.html#zip>\n",
    "\n"
   ]
  },
  {
   "cell_type": "code",
   "execution_count": 33,
   "metadata": {},
   "outputs": [
    {
     "name": "stdout",
     "output_type": "stream",
     "text": [
      "<class 'bytearray'>\n"
     ]
    },
    {
     "data": {
      "text/plain": [
       "b'embsec{xor_3ffa1e4c017dbad3}\\n'"
      ]
     },
     "execution_count": 33,
     "metadata": {},
     "output_type": "execute_result"
    }
   ],
   "source": [
    "from embsec import Serial\n",
    "import struct\n",
    "\n",
    "def xor():\n",
    "    ser = Serial(\"/embsec/one_time_pad/xor\")\n",
    "    # Your code goes here!\n",
    "    string1 = ser.read(16)\n",
    "    print(type(string1))\n",
    "    string2 = ser.read(16)\n",
    "    xored_str = []\n",
    "\n",
    "    \n",
    "    for i in range(16):\n",
    "         xored_str += [string1[i] ^ string2[i]]\n",
    "    \n",
    "    \n",
    "\n",
    "    ser.write(xored_str)\n",
    "    \n",
    "    return ser.read_until()\n",
    "    \n",
    "\n",
    "xor()\n"
   ]
  },
  {
   "cell_type": "markdown",
   "metadata": {},
   "source": [
    "### Challenge Name: two_time_pad (/embsec/one_time_pad/two_time_pad)\n",
    "\n",
    "\n",
    "The one time pad (OTP) is theoretically a perfectly secure encryption method that cannot be cracked. However,\n",
    "the main downside is that you must first exchange a pre-shared key that is the same size as the plaintext. Poor\n",
    "implementation of the OTP leads to severe vulnerabilities.\n",
    "\n",
    "In this challenge, you will be given two ciphertexts which have been XORed using the same OTP. It is your job to\n",
    "extract the message from these ciphertexts given them and a list of possible plaintexts.\n",
    "\n",
    "    1. Read in the two byte string ciphertexts of length 16\n",
    "    2. Read in the list of all possible plaintexts from \"plaintexts.txt\"\n",
    "    3. Perform your attack\n",
    "    4. Send back the two decoded ciphertexts (order does not matter)\n",
    "\n",
    "Both of the plaintext strings will be contained within \"plaintexts.txt\"\n",
    "\n",
    "The key to this attack is that when you XOR something with itself, it becomes zero. So for any number x, x ^ x is 0. \n",
    "Here, you will be given two ciphertexts which look like A ^ K and B ^ K. If you XOR these together (A ^ K ^ B ^ K), \n",
    "the key will cancel out, leaving you witl A ^ B. After this, cryptanalysis comes in to finish guessing the message. \n",
    "However, in place of complicated cryptanalysis, you have been given a list of possible plaintexts which you will use \n",
    "to crack the one time pad. \n",
    "\n",
    "Resources:\n",
    "<https://en.wikipedia.org/wiki/One-time_pad>\n",
    "<https://python-reference.readthedocs.io/en/latest/docs/operators/bitwise_XOR.html>\n",
    "<http://www.crypto-it.net/eng/attacks/two-time-pad.html>\n",
    "\n"
   ]
  },
  {
   "cell_type": "code",
   "execution_count": 21,
   "metadata": {},
   "outputs": [
    {
     "name": "stdout",
     "output_type": "stream",
     "text": [
      "b' U.S. employed e'\n"
     ]
    },
    {
     "name": "stderr",
     "output_type": "stream",
     "text": [
      "Process TwoTimePad-11:\n",
      "Traceback (most recent call last):\n",
      "  File \"/opt/conda/lib/python3.7/multiprocessing/process.py\", line 297, in _bootstrap\n",
      "    self.run()\n"
     ]
    },
    {
     "ename": "KeyboardInterrupt",
     "evalue": "",
     "output_type": "error",
     "traceback": [
      "\u001b[0;31m---------------------------------------------------------------------------\u001b[0m",
      "\u001b[0;31mKeyboardInterrupt\u001b[0m                         Traceback (most recent call last)",
      "\u001b[0;32m<ipython-input-21-e12d8b9086f7>\u001b[0m in \u001b[0;36m<module>\u001b[0;34m\u001b[0m\n\u001b[1;32m     28\u001b[0m     \u001b[0;32mreturn\u001b[0m \u001b[0mser\u001b[0m\u001b[0;34m.\u001b[0m\u001b[0mread_until\u001b[0m\u001b[0;34m(\u001b[0m\u001b[0;34m)\u001b[0m\u001b[0;34m\u001b[0m\u001b[0;34m\u001b[0m\u001b[0m\n\u001b[1;32m     29\u001b[0m \u001b[0;34m\u001b[0m\u001b[0m\n\u001b[0;32m---> 30\u001b[0;31m \u001b[0mtwo_time_pad\u001b[0m\u001b[0;34m(\u001b[0m\u001b[0;34m)\u001b[0m\u001b[0;34m\u001b[0m\u001b[0;34m\u001b[0m\u001b[0m\n\u001b[0m",
      "\u001b[0;32m<ipython-input-21-e12d8b9086f7>\u001b[0m in \u001b[0;36mtwo_time_pad\u001b[0;34m()\u001b[0m\n\u001b[1;32m     21\u001b[0m             \u001b[0mxored_pt\u001b[0m \u001b[0;34m=\u001b[0m \u001b[0;34m[\u001b[0m\u001b[0;34m]\u001b[0m\u001b[0;34m\u001b[0m\u001b[0;34m\u001b[0m\u001b[0m\n\u001b[1;32m     22\u001b[0m             \u001b[0;32mfor\u001b[0m \u001b[0ml\u001b[0m \u001b[0;32min\u001b[0m \u001b[0mrange\u001b[0m\u001b[0;34m(\u001b[0m\u001b[0;36m16\u001b[0m\u001b[0;34m)\u001b[0m\u001b[0;34m:\u001b[0m\u001b[0;34m\u001b[0m\u001b[0;34m\u001b[0m\u001b[0m\n\u001b[0;32m---> 23\u001b[0;31m                 \u001b[0mxored_pt\u001b[0m \u001b[0;34m+=\u001b[0m \u001b[0;34m[\u001b[0m\u001b[0mpt1\u001b[0m \u001b[0;34m^\u001b[0m \u001b[0mpt2\u001b[0m\u001b[0;34m]\u001b[0m\u001b[0;34m\u001b[0m\u001b[0;34m\u001b[0m\u001b[0m\n\u001b[0m\u001b[1;32m     24\u001b[0m             \u001b[0;32mif\u001b[0m \u001b[0;34m(\u001b[0m\u001b[0mxored_pt\u001b[0m \u001b[0;34m==\u001b[0m \u001b[0mstring1\u001b[0m\u001b[0;34m)\u001b[0m\u001b[0;34m:\u001b[0m\u001b[0;34m\u001b[0m\u001b[0;34m\u001b[0m\u001b[0m\n\u001b[1;32m     25\u001b[0m                 \u001b[0mser\u001b[0m\u001b[0;34m.\u001b[0m\u001b[0mwrite\u001b[0m\u001b[0;34m(\u001b[0m\u001b[0mpt1\u001b[0m\u001b[0;34m)\u001b[0m\u001b[0;34m\u001b[0m\u001b[0;34m\u001b[0m\u001b[0m\n",
      "\u001b[0;31mKeyboardInterrupt\u001b[0m: "
     ]
    },
    {
     "name": "stderr",
     "output_type": "stream",
     "text": [
      "  File \"/opt/conda/lib/python3.7/site-packages/core/challenge.py\", line 73, in run\n",
      "    self.grader(*self.grader_pttys)\n",
      "  File \"/opt/conda/lib/python3.7/site-packages/embsec/lessons/one_time_pad/one_time_pad.py\", line 114, in two_time_pad_grader\n",
      "    resp1 = ser.read(16)\n",
      "  File \"/opt/conda/lib/python3.7/site-packages/core/pseudo_serial.py\", line 111, in read\n",
      "    d = self._inq.get(timeout=timeout)\n",
      "  File \"/opt/conda/lib/python3.7/multiprocessing/queues.py\", line 94, in get\n",
      "    res = self._recv_bytes()\n",
      "  File \"/opt/conda/lib/python3.7/multiprocessing/connection.py\", line 216, in recv_bytes\n",
      "    buf = self._recv_bytes(maxlength)\n",
      "  File \"/opt/conda/lib/python3.7/multiprocessing/connection.py\", line 407, in _recv_bytes\n",
      "    buf = self._recv(4)\n",
      "  File \"/opt/conda/lib/python3.7/multiprocessing/connection.py\", line 379, in _recv\n",
      "    chunk = read(handle, remaining)\n",
      "KeyboardInterrupt\n"
     ]
    }
   ],
   "source": [
    "from embsec import Serial\n",
    "\n",
    "def two_time_pad():\n",
    "    ser = Serial(\"/embsec/one_time_pad/two_time_pad\")\n",
    "    # Your code goes here!\n",
    "    \n",
    "    string1 = ser.read(16)\n",
    "    string2 = ser.read(16)\n",
    "    \n",
    "    with open(\"plaintexts.txt\", \"rb\") as f:\n",
    "        plaintexts = f.read()#plaintexts is a byte array\n",
    "    \n",
    "    for i in range(16):\n",
    "        string1[i] ^= string2[i]\n",
    "        \n",
    "    for ipt1 in range(0, len(plaintexts),16):\n",
    "        pt1 = plaintext[ipt1:ipt1+16]\n",
    " \n",
    "        for pt2 in plaintexts:\n",
    "            pt2 = plaintext[ipt2:ipt2+16]\n",
    "            xored_pt = []\n",
    "            for l in range(16):\n",
    "                xored_pt += [pt1 ^ pt2]\n",
    "            if (xored_pt == string1):\n",
    "                ser.write(pt1)\n",
    "                ser.write(pt2)\n",
    "                \n",
    "    return ser.read_until()\n",
    "    \n",
    "two_time_pad()\n"
   ]
  },
  {
   "cell_type": "code",
   "execution_count": 36,
   "metadata": {},
   "outputs": [
    {
     "name": "stdout",
     "output_type": "stream",
     "text": [
      "[110, 111, 112, 101, 32, 116, 104, 97, 110, 107, 32, 121, 111, 117]\n",
      "31\n"
     ]
    }
   ],
   "source": [
    "yuh = b'nope thank you'\n",
    "print(list(yuh))\n",
    "print(yuh[1] ^ yuh[2])"
   ]
  },
  {
   "cell_type": "code",
   "execution_count": 32,
   "metadata": {},
   "outputs": [
    {
     "name": "stdout",
     "output_type": "stream",
     "text": [
      "<class 'int'>\n",
      "b'\\n, which was reu'\n"
     ]
    },
    {
     "ename": "TypeError",
     "evalue": "'int' object is not iterable",
     "output_type": "error",
     "traceback": [
      "\u001b[0;31m---------------------------------------------------------------------------\u001b[0m",
      "\u001b[0;31mTypeError\u001b[0m                                 Traceback (most recent call last)",
      "\u001b[0;32m<ipython-input-32-32641ae5da75>\u001b[0m in \u001b[0;36m<module>\u001b[0;34m\u001b[0m\n\u001b[1;32m      9\u001b[0m \u001b[0mxored\u001b[0m \u001b[0;34m=\u001b[0m \u001b[0;34m[\u001b[0m\u001b[0;34m]\u001b[0m\u001b[0;34m\u001b[0m\u001b[0;34m\u001b[0m\u001b[0m\n\u001b[1;32m     10\u001b[0m \u001b[0;32mfor\u001b[0m \u001b[0mi\u001b[0m \u001b[0;32min\u001b[0m \u001b[0mrange\u001b[0m\u001b[0;34m(\u001b[0m\u001b[0;36m16\u001b[0m\u001b[0;34m)\u001b[0m\u001b[0;34m:\u001b[0m\u001b[0;34m\u001b[0m\u001b[0;34m\u001b[0m\u001b[0m\n\u001b[0;32m---> 11\u001b[0;31m     \u001b[0mxored\u001b[0m \u001b[0;34m+=\u001b[0m \u001b[0mchunk1\u001b[0m\u001b[0;34m[\u001b[0m\u001b[0mi\u001b[0m\u001b[0;34m]\u001b[0m \u001b[0;34m^\u001b[0m \u001b[0mchunk2\u001b[0m\u001b[0;34m[\u001b[0m\u001b[0mi\u001b[0m\u001b[0;34m]\u001b[0m\u001b[0;34m\u001b[0m\u001b[0;34m\u001b[0m\u001b[0m\n\u001b[0m\u001b[1;32m     12\u001b[0m \u001b[0;36m5\u001b[0m\u001b[0;34m^\u001b[0m\u001b[0;36m4\u001b[0m\u001b[0;34m\u001b[0m\u001b[0;34m\u001b[0m\u001b[0m\n",
      "\u001b[0;31mTypeError\u001b[0m: 'int' object is not iterable"
     ]
    }
   ],
   "source": [
    "with open(\"plaintexts.txt\", \"rb\") as f:\n",
    "        plaintexts = f.read()#plaintexts is a byte array\n",
    "\n",
    "chunk1 = plaintexts[:16]\n",
    "chunk2 = plaintexts[16:32]\n",
    "print(type(chunk1[i]))\n",
    "print(chunk2)\n",
    "\n",
    "xored = []\n",
    "for i in range(16):\n",
    "    xored += chunk1[i] ^ chunk2[i]\n",
    "5^4\n"
   ]
  },
  {
   "cell_type": "code",
   "execution_count": null,
   "metadata": {},
   "outputs": [],
   "source": []
  }
 ],
 "metadata": {
  "kernelspec": {
   "display_name": "Python 3",
   "language": "python",
   "name": "python3"
  },
  "language_info": {
   "codemirror_mode": {
    "name": "ipython",
    "version": 3
   },
   "file_extension": ".py",
   "mimetype": "text/x-python",
   "name": "python",
   "nbconvert_exporter": "python",
   "pygments_lexer": "ipython3",
   "version": "3.7.6"
  }
 },
 "nbformat": 4,
 "nbformat_minor": 4
}
