{
 "cells": [
  {
   "cell_type": "markdown",
   "metadata": {},
   "source": [
    "# One time pad\n",
    "\n",
    "This lab covers an security flaw that arises in the one time pad when the same pad is used more than once. When \n",
    "two messages are XORed with the same pad, you can XOR the ciphertexts together to get rid of the pad entirely. Use \n",
    "this lab to explore how to XOR two strings, and then crack this poor implementation of the \"Two time pad.\" "
   ]
  },
  {
   "cell_type": "markdown",
   "metadata": {},
   "source": [
    "### Challenge Name: xor (/embsec/one_time_pad/xor)\n",
    "\n",
    "\n",
    "The XOR operation is very common in cryptography and security, since it is very useful and also very fast. It's used in\n",
    "many algorithms, including AES and the one time pad. Here, use the Python bitwise XOR to XOR two strings together.\n",
    "    \n",
    "    1. Read in two byte strings of length 16 from the serial device\n",
    "    2. Do a bitwise XOR on each character\n",
    "    3. Make a byte string out of the XORed result of each pair of characters\n",
    "    4. Send the byte string back over the serial\n",
    "\n",
    "Resources:\n",
    "<https://python-reference.readthedocs.io/en/latest/docs/operators/bitwise_XOR.html>\n",
    "\n",
    "Additional resources (For the one-line solution. Do this AFTER completing it for the first time if you want an added challenge):\n",
    "<https://docs.python.org/3.3/library/functions.html#zip>\n",
    "\n"
   ]
  },
  {
   "cell_type": "code",
   "execution_count": 1,
   "metadata": {},
   "outputs": [
    {
     "ename": "NoGraderError",
     "evalue": "No lesson one_time_pad found in course embsec",
     "output_type": "error",
     "traceback": [
      "\u001b[0;31m---------------------------------------------------------------------------\u001b[0m",
      "\u001b[0;31mKeyError\u001b[0m                                  Traceback (most recent call last)",
      "\u001b[0;32m/opt/conda/lib/python3.7/site-packages/core/course.py\u001b[0m in \u001b[0;36mget_lesson\u001b[0;34m(self, name)\u001b[0m\n\u001b[1;32m     88\u001b[0m         \u001b[0;32mtry\u001b[0m\u001b[0;34m:\u001b[0m\u001b[0;34m\u001b[0m\u001b[0;34m\u001b[0m\u001b[0m\n\u001b[0;32m---> 89\u001b[0;31m             \u001b[0;32mreturn\u001b[0m \u001b[0mself\u001b[0m\u001b[0;34m.\u001b[0m\u001b[0m_lesson_registry\u001b[0m\u001b[0;34m[\u001b[0m\u001b[0mname\u001b[0m\u001b[0;34m]\u001b[0m\u001b[0;34m\u001b[0m\u001b[0;34m\u001b[0m\u001b[0m\n\u001b[0m\u001b[1;32m     90\u001b[0m         \u001b[0;32mexcept\u001b[0m \u001b[0mKeyError\u001b[0m\u001b[0;34m:\u001b[0m\u001b[0;34m\u001b[0m\u001b[0;34m\u001b[0m\u001b[0m\n",
      "\u001b[0;31mKeyError\u001b[0m: 'one_time_pad'",
      "\nDuring handling of the above exception, another exception occurred:\n",
      "\u001b[0;31mNoGraderError\u001b[0m                             Traceback (most recent call last)",
      "\u001b[0;32m<ipython-input-1-eb148202d6d1>\u001b[0m in \u001b[0;36m<module>\u001b[0;34m\u001b[0m\n\u001b[1;32m     17\u001b[0m \u001b[0;34m\u001b[0m\u001b[0m\n\u001b[1;32m     18\u001b[0m \u001b[0;34m\u001b[0m\u001b[0m\n\u001b[0;32m---> 19\u001b[0;31m \u001b[0mxor\u001b[0m\u001b[0;34m(\u001b[0m\u001b[0;34m)\u001b[0m\u001b[0;34m\u001b[0m\u001b[0;34m\u001b[0m\u001b[0m\n\u001b[0m",
      "\u001b[0;32m<ipython-input-1-eb148202d6d1>\u001b[0m in \u001b[0;36mxor\u001b[0;34m()\u001b[0m\n\u001b[1;32m      3\u001b[0m \u001b[0;34m\u001b[0m\u001b[0m\n\u001b[1;32m      4\u001b[0m \u001b[0;32mdef\u001b[0m \u001b[0mxor\u001b[0m\u001b[0;34m(\u001b[0m\u001b[0;34m)\u001b[0m\u001b[0;34m:\u001b[0m\u001b[0;34m\u001b[0m\u001b[0;34m\u001b[0m\u001b[0m\n\u001b[0;32m----> 5\u001b[0;31m     \u001b[0mser\u001b[0m \u001b[0;34m=\u001b[0m \u001b[0mSerial\u001b[0m\u001b[0;34m(\u001b[0m\u001b[0;34m\"/embsec/one_time_pad/xor\"\u001b[0m\u001b[0;34m)\u001b[0m\u001b[0;34m\u001b[0m\u001b[0;34m\u001b[0m\u001b[0m\n\u001b[0m\u001b[1;32m      6\u001b[0m     \u001b[0;31m# Your code goes here!\u001b[0m\u001b[0;34m\u001b[0m\u001b[0;34m\u001b[0m\u001b[0;34m\u001b[0m\u001b[0m\n\u001b[1;32m      7\u001b[0m     \u001b[0mstring1\u001b[0m \u001b[0;34m=\u001b[0m \u001b[0mser\u001b[0m\u001b[0;34m.\u001b[0m\u001b[0mread\u001b[0m\u001b[0;34m(\u001b[0m\u001b[0;36m16\u001b[0m\u001b[0;34m)\u001b[0m\u001b[0;34m\u001b[0m\u001b[0;34m\u001b[0m\u001b[0m\n",
      "\u001b[0;32m/opt/conda/lib/python3.7/site-packages/core/graders.py\u001b[0m in \u001b[0;36mSerial\u001b[0;34m(port, **kwargs)\u001b[0m\n\u001b[1;32m     16\u001b[0m         \u001b[0;32mreturn\u001b[0m \u001b[0mRealSerial\u001b[0m\u001b[0;34m(\u001b[0m\u001b[0mport\u001b[0m\u001b[0;34m,\u001b[0m \u001b[0;34m**\u001b[0m\u001b[0mkwargs\u001b[0m\u001b[0;34m)\u001b[0m\u001b[0;34m\u001b[0m\u001b[0;34m\u001b[0m\u001b[0m\n\u001b[1;32m     17\u001b[0m     \u001b[0;32melse\u001b[0m\u001b[0;34m:\u001b[0m\u001b[0;34m\u001b[0m\u001b[0;34m\u001b[0m\u001b[0m\n\u001b[0;32m---> 18\u001b[0;31m         \u001b[0;32mreturn\u001b[0m \u001b[0mChallengeSerial\u001b[0m\u001b[0;34m(\u001b[0m\u001b[0mport\u001b[0m\u001b[0;34m)\u001b[0m\u001b[0;34m\u001b[0m\u001b[0;34m\u001b[0m\u001b[0m\n\u001b[0m\u001b[1;32m     19\u001b[0m \u001b[0;34m\u001b[0m\u001b[0m\n\u001b[1;32m     20\u001b[0m \u001b[0;34m\u001b[0m\u001b[0m\n",
      "\u001b[0;32m/opt/conda/lib/python3.7/site-packages/core/course.py\u001b[0m in \u001b[0;36mChallengeSerial\u001b[0;34m(challenge_path)\u001b[0m\n\u001b[1;32m     39\u001b[0m     \u001b[0;32melse\u001b[0m\u001b[0;34m:\u001b[0m\u001b[0;34m\u001b[0m\u001b[0;34m\u001b[0m\u001b[0m\n\u001b[1;32m     40\u001b[0m         \u001b[0mptty_idx\u001b[0m \u001b[0;34m=\u001b[0m \u001b[0;36m0\u001b[0m\u001b[0;34m\u001b[0m\u001b[0;34m\u001b[0m\u001b[0m\n\u001b[0;32m---> 41\u001b[0;31m         \u001b[0mchallenge\u001b[0m \u001b[0;34m=\u001b[0m \u001b[0mget_challenge\u001b[0m\u001b[0;34m(\u001b[0m\u001b[0mchallenge_path\u001b[0m\u001b[0;34m)\u001b[0m\u001b[0;34m\u001b[0m\u001b[0;34m\u001b[0m\u001b[0m\n\u001b[0m\u001b[1;32m     42\u001b[0m \u001b[0;34m\u001b[0m\u001b[0m\n\u001b[1;32m     43\u001b[0m     \u001b[0;32mreturn\u001b[0m \u001b[0mchallenge\u001b[0m\u001b[0;34m.\u001b[0m\u001b[0mget_ptty\u001b[0m\u001b[0;34m(\u001b[0m\u001b[0mptty_idx\u001b[0m\u001b[0;34m)\u001b[0m\u001b[0;34m\u001b[0m\u001b[0;34m\u001b[0m\u001b[0m\n",
      "\u001b[0;32m/opt/conda/lib/python3.7/site-packages/core/course.py\u001b[0m in \u001b[0;36mget_challenge\u001b[0;34m(name)\u001b[0m\n\u001b[1;32m     28\u001b[0m         \u001b[0;32mraise\u001b[0m \u001b[0me\u001b[0m\u001b[0;34m\u001b[0m\u001b[0;34m\u001b[0m\u001b[0m\n\u001b[1;32m     29\u001b[0m     \u001b[0mcourse\u001b[0m \u001b[0;34m=\u001b[0m \u001b[0mfind_course\u001b[0m\u001b[0;34m(\u001b[0m\u001b[0mcourse_name\u001b[0m\u001b[0;34m=\u001b[0m\u001b[0mcourse_str\u001b[0m\u001b[0;34m)\u001b[0m\u001b[0;34m\u001b[0m\u001b[0;34m\u001b[0m\u001b[0m\n\u001b[0;32m---> 30\u001b[0;31m     \u001b[0mlesson\u001b[0m \u001b[0;34m=\u001b[0m \u001b[0mcourse\u001b[0m\u001b[0;34m.\u001b[0m\u001b[0mget_lesson\u001b[0m\u001b[0;34m(\u001b[0m\u001b[0mlesson_str\u001b[0m\u001b[0;34m)\u001b[0m\u001b[0;34m\u001b[0m\u001b[0;34m\u001b[0m\u001b[0m\n\u001b[0m\u001b[1;32m     31\u001b[0m \u001b[0;34m\u001b[0m\u001b[0m\n\u001b[1;32m     32\u001b[0m     \u001b[0;32mreturn\u001b[0m \u001b[0mlesson\u001b[0m\u001b[0;34m.\u001b[0m\u001b[0mget_challenge\u001b[0m\u001b[0;34m(\u001b[0m\u001b[0mchallenge_str\u001b[0m\u001b[0;34m)\u001b[0m\u001b[0;34m\u001b[0m\u001b[0;34m\u001b[0m\u001b[0m\n",
      "\u001b[0;32m/opt/conda/lib/python3.7/site-packages/core/course.py\u001b[0m in \u001b[0;36mget_lesson\u001b[0;34m(self, name)\u001b[0m\n\u001b[1;32m     89\u001b[0m             \u001b[0;32mreturn\u001b[0m \u001b[0mself\u001b[0m\u001b[0;34m.\u001b[0m\u001b[0m_lesson_registry\u001b[0m\u001b[0;34m[\u001b[0m\u001b[0mname\u001b[0m\u001b[0;34m]\u001b[0m\u001b[0;34m\u001b[0m\u001b[0;34m\u001b[0m\u001b[0m\n\u001b[1;32m     90\u001b[0m         \u001b[0;32mexcept\u001b[0m \u001b[0mKeyError\u001b[0m\u001b[0;34m:\u001b[0m\u001b[0;34m\u001b[0m\u001b[0;34m\u001b[0m\u001b[0m\n\u001b[0;32m---> 91\u001b[0;31m             \u001b[0;32mraise\u001b[0m \u001b[0mNoGraderError\u001b[0m\u001b[0;34m(\u001b[0m\u001b[0;34mf\"No lesson {name} found in course {self.name}\"\u001b[0m\u001b[0;34m)\u001b[0m\u001b[0;34m\u001b[0m\u001b[0;34m\u001b[0m\u001b[0m\n\u001b[0m\u001b[1;32m     92\u001b[0m \u001b[0;34m\u001b[0m\u001b[0m\n\u001b[1;32m     93\u001b[0m     \u001b[0;32mdef\u001b[0m \u001b[0mgenerate_course\u001b[0m\u001b[0;34m(\u001b[0m\u001b[0mself\u001b[0m\u001b[0;34m,\u001b[0m \u001b[0moutput_path\u001b[0m\u001b[0;34m,\u001b[0m \u001b[0mlessons\u001b[0m\u001b[0;34m=\u001b[0m\u001b[0;32mNone\u001b[0m\u001b[0;34m,\u001b[0m \u001b[0mwith_solutions\u001b[0m\u001b[0;34m=\u001b[0m\u001b[0;32mFalse\u001b[0m\u001b[0;34m)\u001b[0m\u001b[0;34m:\u001b[0m\u001b[0;34m\u001b[0m\u001b[0;34m\u001b[0m\u001b[0m\n",
      "\u001b[0;31mNoGraderError\u001b[0m: No lesson one_time_pad found in course embsec"
     ]
    }
   ],
   "source": [
    "from embsec import Serial\n",
    "import struct\n",
    "\n",
    "def xor():\n",
    "    ser = Serial(\"/embsec/one_time_pad/xor\")\n",
    "    # Your code goes here!\n",
    "    string1 = struct.unpack('<h', ser.read(16))\n",
    "    string2 = ('<h', ser.read(16))\n",
    "    \n",
    "    xored_str = string1^string2\n",
    "    \n",
    "    \n",
    "    packed = struct.pack('<16s', xored_str)\n",
    "    ser.write(packed)\n",
    "    \n",
    "    return ser.read_until()\n",
    "    \n",
    "\n",
    "xor()\n"
   ]
  },
  {
   "cell_type": "markdown",
   "metadata": {},
   "source": [
    "### Challenge Name: two_time_pad (/embsec/one_time_pad/two_time_pad)\n",
    "\n",
    "\n",
    "The one time pad (OTP) is theoretically a perfectly secure encryption method that cannot be cracked. However,\n",
    "the main downside is that you must first exchange a pre-shared key that is the same size as the plaintext. Poor\n",
    "implementation of the OTP leads to severe vulnerabilities.\n",
    "\n",
    "In this challenge, you will be given two ciphertexts which have been XORed using the same OTP. It is your job to\n",
    "extract the message from these ciphertexts given them and a list of possible plaintexts.\n",
    "\n",
    "    1. Read in the two byte string ciphertexts of length 16\n",
    "    2. Read in the list of all possible plaintexts from \"plaintexts.txt\"\n",
    "    3. Perform your attack\n",
    "    4. Send back the two decoded ciphertexts (order does not matter)\n",
    "\n",
    "Both of the plaintext strings will be contained within \"plaintexts.txt\"\n",
    "\n",
    "The key to this attack is that when you XOR something with itself, it becomes zero. So for any number x, x ^ x is 0. \n",
    "Here, you will be given two ciphertexts which look like A ^ K and B ^ K. If you XOR these together (A ^ K ^ B ^ K), \n",
    "the key will cancel out, leaving you witl A ^ B. After this, cryptanalysis comes in to finish guessing the message. \n",
    "However, in place of complicated cryptanalysis, you have been given a list of possible plaintexts which you will use \n",
    "to crack the one time pad. \n",
    "\n",
    "Resources:\n",
    "<https://en.wikipedia.org/wiki/One-time_pad>\n",
    "<https://python-reference.readthedocs.io/en/latest/docs/operators/bitwise_XOR.html>\n",
    "<http://www.crypto-it.net/eng/attacks/two-time-pad.html>\n",
    "\n"
   ]
  },
  {
   "cell_type": "code",
   "execution_count": null,
   "metadata": {},
   "outputs": [],
   "source": [
    "from embsec import Serial\n",
    "\n",
    "def two_time_pad():\n",
    "    ser = Serial(\"/embsec/one_time_pad/two_time_pad\")\n",
    "    # Your code goes here!\n",
    "\n",
    "two_time_pad()\n"
   ]
  }
 ],
 "metadata": {
  "kernelspec": {
   "display_name": "Python 3",
   "language": "python",
   "name": "python3"
  },
  "language_info": {
   "codemirror_mode": {
    "name": "ipython",
    "version": 3
   },
   "file_extension": ".py",
   "mimetype": "text/x-python",
   "name": "python",
   "nbconvert_exporter": "python",
   "pygments_lexer": "ipython3",
   "version": "3.7.6"
  }
 },
 "nbformat": 4,
 "nbformat_minor": 4
}
