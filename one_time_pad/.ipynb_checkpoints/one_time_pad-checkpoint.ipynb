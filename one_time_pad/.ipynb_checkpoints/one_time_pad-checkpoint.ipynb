{
 "cells": [
  {
   "cell_type": "markdown",
   "metadata": {},
   "source": [
    "# One time pad\n",
    "\n",
    "This lab covers an security flaw that arises in the one time pad when the same pad is used more than once. When \n",
    "two messages are XORed with the same pad, you can XOR the ciphertexts together to get rid of the pad entirely. Use \n",
    "this lab to explore how to XOR two strings, and then crack this poor implementation of the \"Two time pad.\" "
   ]
  },
  {
   "cell_type": "markdown",
   "metadata": {},
   "source": [
    "### Challenge Name: xor (/embsec/one_time_pad/xor)\n",
    "\n",
    "\n",
    "The XOR operation is very common in cryptography and security, since it is very useful and also very fast. It's used in\n",
    "many algorithms, including AES and the one time pad. Here, use the Python bitwise XOR to XOR two strings together.\n",
    "    \n",
    "    1. Read in two byte strings of length 16 from the serial device\n",
    "    2. Do a bitwise XOR on each character\n",
    "    3. Make a byte string out of the XORed result of each pair of characters\n",
    "    4. Send the byte string back over the serial\n",
    "\n",
    "Resources:\n",
    "<https://python-reference.readthedocs.io/en/latest/docs/operators/bitwise_XOR.html>\n",
    "\n",
    "Additional resources (For the one-line solution. Do this AFTER completing it for the first time if you want an added challenge):\n",
    "<https://docs.python.org/3.3/library/functions.html#zip>\n",
    "\n"
   ]
  },
  {
   "cell_type": "code",
   "execution_count": 3,
   "metadata": {},
   "outputs": [
    {
     "data": {
      "text/plain": [
       "b'embsec{xor_3ffa1e4c017dbad3}\\n'"
      ]
     },
     "execution_count": 3,
     "metadata": {},
     "output_type": "execute_result"
    }
   ],
   "source": [
    "from embsec import Serial\n",
    "import struct\n",
    "\n",
    "def xor():\n",
    "    ser = Serial(\"/embsec/one_time_pad/xor\")\n",
    "    # Your code goes here!\n",
    "    string1 = ser.read(16)\n",
    "    string2 = ser.read(16)\n",
    "    xored_str = []\n",
    "\n",
    "    \n",
    "    for i in range(16):\n",
    "         xored_str += [string1[i] ^ string2[i]]\n",
    "    \n",
    "    \n",
    "\n",
    "    ser.write(xored_str)\n",
    "    \n",
    "    return ser.read_until()\n",
    "    \n",
    "\n",
    "xor()\n"
   ]
  },
  {
   "cell_type": "markdown",
   "metadata": {},
   "source": [
    "### Challenge Name: two_time_pad (/embsec/one_time_pad/two_time_pad)\n",
    "\n",
    "\n",
    "The one time pad (OTP) is theoretically a perfectly secure encryption method that cannot be cracked. However,\n",
    "the main downside is that you must first exchange a pre-shared key that is the same size as the plaintext. Poor\n",
    "implementation of the OTP leads to severe vulnerabilities.\n",
    "\n",
    "In this challenge, you will be given two ciphertexts which have been XORed using the same OTP. It is your job to\n",
    "extract the message from these ciphertexts given them and a list of possible plaintexts.\n",
    "\n",
    "    1. Read in the two byte string ciphertexts of length 16\n",
    "    2. Read in the list of all possible plaintexts from \"plaintexts.txt\"\n",
    "    3. Perform your attack\n",
    "    4. Send back the two decoded ciphertexts (order does not matter)\n",
    "\n",
    "Both of the plaintext strings will be contained within \"plaintexts.txt\"\n",
    "\n",
    "The key to this attack is that when you XOR something with itself, it becomes zero. So for any number x, x ^ x is 0. \n",
    "Here, you will be given two ciphertexts which look like A ^ K and B ^ K. If you XOR these together (A ^ K ^ B ^ K), \n",
    "the key will cancel out, leaving you witl A ^ B. After this, cryptanalysis comes in to finish guessing the message. \n",
    "However, in place of complicated cryptanalysis, you have been given a list of possible plaintexts which you will use \n",
    "to crack the one time pad. \n",
    "\n",
    "Resources:\n",
    "<https://en.wikipedia.org/wiki/One-time_pad>\n",
    "<https://python-reference.readthedocs.io/en/latest/docs/operators/bitwise_XOR.html>\n",
    "<http://www.crypto-it.net/eng/attacks/two-time-pad.html>\n",
    "\n"
   ]
  },
  {
   "cell_type": "code",
   "execution_count": 18,
   "metadata": {},
   "outputs": [
    {
     "name": "stdout",
     "output_type": "stream",
     "text": [
      "b' U.S. employed e'\n",
      "32\n",
      "32\n"
     ]
    },
    {
     "ename": "TypeError",
     "evalue": "'int' object is not subscriptable",
     "output_type": "error",
     "traceback": [
      "\u001b[0;31m---------------------------------------------------------------------------\u001b[0m",
      "\u001b[0;31mTypeError\u001b[0m                                 Traceback (most recent call last)",
      "\u001b[0;32m<ipython-input-18-7fdd1c6a981e>\u001b[0m in \u001b[0;36m<module>\u001b[0;34m\u001b[0m\n\u001b[1;32m     29\u001b[0m     \u001b[0;32mreturn\u001b[0m \u001b[0mser\u001b[0m\u001b[0;34m.\u001b[0m\u001b[0mread_until\u001b[0m\u001b[0;34m(\u001b[0m\u001b[0;34m)\u001b[0m\u001b[0;34m\u001b[0m\u001b[0;34m\u001b[0m\u001b[0m\n\u001b[1;32m     30\u001b[0m \u001b[0;34m\u001b[0m\u001b[0m\n\u001b[0;32m---> 31\u001b[0;31m \u001b[0mtwo_time_pad\u001b[0m\u001b[0;34m(\u001b[0m\u001b[0;34m)\u001b[0m\u001b[0;34m\u001b[0m\u001b[0;34m\u001b[0m\u001b[0m\n\u001b[0m",
      "\u001b[0;32m<ipython-input-18-7fdd1c6a981e>\u001b[0m in \u001b[0;36mtwo_time_pad\u001b[0;34m()\u001b[0m\n\u001b[1;32m     22\u001b[0m             \u001b[0mxored_pt\u001b[0m \u001b[0;34m=\u001b[0m \u001b[0;34m[\u001b[0m\u001b[0;34m]\u001b[0m\u001b[0;34m\u001b[0m\u001b[0;34m\u001b[0m\u001b[0m\n\u001b[1;32m     23\u001b[0m             \u001b[0;32mfor\u001b[0m \u001b[0ml\u001b[0m \u001b[0;32min\u001b[0m \u001b[0mrange\u001b[0m\u001b[0;34m(\u001b[0m\u001b[0;36m16\u001b[0m\u001b[0;34m)\u001b[0m\u001b[0;34m:\u001b[0m\u001b[0;34m\u001b[0m\u001b[0;34m\u001b[0m\u001b[0m\n\u001b[0;32m---> 24\u001b[0;31m                 \u001b[0mxored_pt\u001b[0m \u001b[0;34m+=\u001b[0m \u001b[0;34m[\u001b[0m\u001b[0mpt1\u001b[0m\u001b[0;34m[\u001b[0m\u001b[0ml\u001b[0m\u001b[0;34m]\u001b[0m \u001b[0;34m^\u001b[0m \u001b[0mpt2\u001b[0m\u001b[0;34m[\u001b[0m\u001b[0ml\u001b[0m\u001b[0;34m]\u001b[0m\u001b[0;34m]\u001b[0m\u001b[0;34m\u001b[0m\u001b[0;34m\u001b[0m\u001b[0m\n\u001b[0m\u001b[1;32m     25\u001b[0m             \u001b[0;32mif\u001b[0m \u001b[0;34m(\u001b[0m\u001b[0mxored_pt\u001b[0m \u001b[0;34m==\u001b[0m \u001b[0mstring1\u001b[0m\u001b[0;34m)\u001b[0m\u001b[0;34m:\u001b[0m\u001b[0;34m\u001b[0m\u001b[0;34m\u001b[0m\u001b[0m\n\u001b[1;32m     26\u001b[0m                 \u001b[0mser\u001b[0m\u001b[0;34m.\u001b[0m\u001b[0mwrite\u001b[0m\u001b[0;34m(\u001b[0m\u001b[0mpt1\u001b[0m\u001b[0;34m)\u001b[0m\u001b[0;34m\u001b[0m\u001b[0;34m\u001b[0m\u001b[0m\n",
      "\u001b[0;31mTypeError\u001b[0m: 'int' object is not subscriptable"
     ]
    }
   ],
   "source": [
    "from embsec import Serial\n",
    "\n",
    "def two_time_pad():\n",
    "    ser = Serial(\"/embsec/one_time_pad/two_time_pad\")\n",
    "    # Your code goes here!\n",
    "    \n",
    "    string1 = ser.read(16)\n",
    "    string2 = ser.read(16)\n",
    "    \n",
    "    with open(\"plaintexts.txt\", \"rb\") as f:\n",
    "        plaintexts = f.read()#plaintexts is a byte array\n",
    "    \n",
    "    for i in range(16):\n",
    "        string1[i] ^= string2[i]\n",
    "        \n",
    "    print(plaintexts[:16])\n",
    "    \n",
    "    for pt1 in plaintexts:\n",
    "        for pt2 in plaintexts:\n",
    "            print(pt1)\n",
    "            print(pt2)\n",
    "            xored_pt = []\n",
    "            for l in range(16):\n",
    "                xored_pt += [pt1[l] ^ pt2[l]]\n",
    "            if (xored_pt == string1):\n",
    "                ser.write(pt1)\n",
    "                ser.write(pt2)\n",
    "                \n",
    "    return ser.read_until()\n",
    "    \n",
    "two_time_pad()\n"
   ]
  },
  {
   "cell_type": "code",
   "execution_count": 16,
   "metadata": {},
   "outputs": [
    {
     "name": "stdout",
     "output_type": "stream",
     "text": [
      "[110, 111, 112, 101, 32, 116, 104, 97, 110, 107, 32, 121, 111, 117]\n"
     ]
    }
   ],
   "source": [
    "yuh = b'nope thank you'\n",
    "print(list(yuh))"
   ]
  },
  {
   "cell_type": "code",
   "execution_count": null,
   "metadata": {},
   "outputs": [],
   "source": []
  }
 ],
 "metadata": {
  "kernelspec": {
   "display_name": "Python 3",
   "language": "python",
   "name": "python3"
  },
  "language_info": {
   "codemirror_mode": {
    "name": "ipython",
    "version": 3
   },
   "file_extension": ".py",
   "mimetype": "text/x-python",
   "name": "python",
   "nbconvert_exporter": "python",
   "pygments_lexer": "ipython3",
   "version": "3.7.6"
  }
 },
 "nbformat": 4,
 "nbformat_minor": 4
}
