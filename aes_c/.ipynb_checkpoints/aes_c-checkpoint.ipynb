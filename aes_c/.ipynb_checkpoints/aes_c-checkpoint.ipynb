{
 "cells": [
  {
   "cell_type": "markdown",
   "metadata": {},
   "source": [
    "# Aes c\n",
    "\n",
    " In this lesson you will learn how to use the C library\n",
    "BearSSL to encrypt and decrypt with the AES algorithm. This\n",
    "lesson requires an understanding of C IO, byte manipulation,\n",
    "and endianess. Good luck!\n"
   ]
  },
  {
   "cell_type": "markdown",
   "metadata": {},
   "source": [
    "### Challenge Name: aes_decrypt (/embsec/aes_c/aes_decrypt)\n",
    "\n",
    "\n",
    "    The host tool is sending you an encrypted messaged. The message \n",
    "    is in the following format:\n",
    "       \n",
    "    [ 0x10 ] [      0x2      ] [ variable...]\n",
    "    ----------------------------------------\n",
    "    |  IV   | Ciphertext Size | Ciphertext |\n",
    "    ----------------------------------------\n",
    "    \n",
    "    1. Read the AES key from 'aeskeyfile0.bin'\n",
    "    2. Read the 16 byte initialization vector (IV) from the serial device\n",
    "    3. Read the ciphertext size (formatted as a little-endian short) from the serial device\n",
    "    4. Read the ciphertext from the serial device\n",
    "    5. Decrypt the ciphertext using 128-bit AES in CBC mode\n",
    "\n",
    "Resources:\n",
    "\n",
    "<https://docs.python.org/3/library/struct.html>\n",
    "\n",
    "<https://pycryptodome.readthedocs.io/en/latest/src/cipher/aes.html>\n",
    "\n"
   ]
  },
  {
   "cell_type": "code",
   "execution_count": 1,
   "metadata": {},
   "outputs": [
    {
     "data": {
      "text/plain": [
       "b'embsec{aes_decrypt_5b0bfc68f6cd7692}\\n'"
      ]
     },
     "execution_count": 1,
     "metadata": {},
     "output_type": "execute_result"
    }
   ],
   "source": [
    "import embsec\n",
    "import subprocess\n",
    "from core.util import extract_flag\n",
    "\n",
    "def aes_decrypt():\n",
    "    subprocess.check_output([f'gcc  -I../../lib/uart -I../../lib/BearSSL/inc aes_decrypt.c ../../lib/uart/uart_linux.c -o aes_decrypt ../../lib/BearSSL/build/libbearssl.a'], shell=True)\n",
    "    stdout, stdin = embsec.grade_c(f'./aes_decrypt', f'/embsec/aes_c/aes_decrypt')\n",
    "    \n",
    "    return (extract_flag(stdin))\n",
    "    \n",
    "aes_decrypt()\n",
    "\n"
   ]
  },
  {
   "cell_type": "markdown",
   "metadata": {},
   "source": [
    "### Challenge Name: aes_encrypted_echo (/embsec/aes_c/aes_encrypted_echo)\n",
    "\n",
    "\n",
    "    The host tool is sending you an encrypted message. Decrypt\n",
    "    the message and send it back encrypted with a different IV. The \n",
    "    message needs to be formatted as follows:\n",
    "    \n",
    "    [ 0x10 ] [      0x2      ] [ variable...]\n",
    "    ----------------------------------------\n",
    "    |  IV   | Ciphertext Size | Ciphertext |\n",
    "    ----------------------------------------\n",
    "    \n",
    "    1. Read the AES key from 'aeskeyfile.bin'\n",
    "    2. Read the 16 byte initialization vector (IV) from the serial device\n",
    "    3. Read the ciphertext size (formatted as a little-endian short) from the serial device\n",
    "    4. Read the ciphertext from the serial device\n",
    "    5. Decrypt the ciphertext using 128-bit AES in CBC mode\n",
    "    2. Re-encrypt the plaintext with the same key but a new IV\n",
    "    3. Send the IV to the serial device\n",
    "    4. Send the ciphertext size (formatted as a little-endian short) to the serial device\n",
    "    5. Send the ciphertext to the serial device\n",
    "    6. Read the response\n",
    "\n",
    "\n"
   ]
  },
  {
   "cell_type": "code",
   "execution_count": null,
   "metadata": {},
   "outputs": [],
   "source": [
    "import embsec\n",
    "import subprocess\n",
    "from core.util import extract_flag\n",
    "\n",
    "def aes_encrypted_echo():\n",
    "    subprocess.check_output([f'gcc -I../../lib/uart aes_encrypted_echo.c ../../lib/uart/uart_linux.c -o aes_encrypted_echo'], shell=True)\n",
    "    stdout, stdin = embsec.grade_c(f'./aes_encrypted_echo', f'/embsec/aes_c/aes_encrypted_echo')\n",
    "    \n",
    "    return (extract_flag(stdout))\n",
    "    \n",
    "aes_encrypted_echo()\n",
    "\n"
   ]
  }
 ],
 "metadata": {
  "kernelspec": {
   "display_name": "Python 3",
   "language": "python",
   "name": "python3"
  },
  "language_info": {
   "codemirror_mode": {
    "name": "ipython",
    "version": 3
   },
   "file_extension": ".py",
   "mimetype": "text/x-python",
   "name": "python",
   "nbconvert_exporter": "python",
   "pygments_lexer": "ipython3",
   "version": "3.7.6"
  }
 },
 "nbformat": 4,
 "nbformat_minor": 4
}
