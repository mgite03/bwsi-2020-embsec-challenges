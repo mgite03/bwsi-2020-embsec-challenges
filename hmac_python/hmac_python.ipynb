{
 "cells": [
  {
   "cell_type": "markdown",
   "metadata": {},
   "source": [
    "# Hmac python\n",
    "\n"
   ]
  },
  {
   "cell_type": "markdown",
   "metadata": {},
   "source": [
    "### Challenge Name: hmac_generate (/embsec/hmac_python/hmac_generate)\n",
    "\n",
    "\n",
    "    The serial device will send you a variable-length frame of data. The data\n",
    "    frame will begin with a short, little-endian integer size of the data to \n",
    "    follow. You must generate an HMAC-SHA256 signature using the key in \n",
    "    'hmackeyfile0.bin'.\n",
    "    \n",
    "    The data frame you will receive from the device will be formatted as follows:\n",
    "    \n",
    "    [ 0x2   ] [   variable...   ]\n",
    "    ------------------------------\n",
    "    | Size   |     Data          |\n",
    "    ------------------------------\n",
    "    \n",
    "    You must send a 32-byte HMAC-SHA256 signature to the serial device.\n",
    "    \n",
    "    [     0x20     ]\n",
    "    ----------------\n",
    "    |  HMAC(Data)  |\n",
    "    ----------------\n",
    "    \n",
    "    1. Read the HMAC key from 'hmackeyfile0.bin'\n",
    "    2. Read the size of the data from the serial device\n",
    "    3. Read the data from the serial device\n",
    "    4. Generate and send a HMAC-SHA256 over the data\n",
    "    5. Read the response\n",
    "    \n",
    "\n"
   ]
  },
  {
   "cell_type": "code",
   "execution_count": 1,
   "metadata": {},
   "outputs": [
    {
     "data": {
      "text/plain": [
       "b'embsec{hmac_generate_40a7c2dbd2fcb709}\\n'"
      ]
     },
     "execution_count": 1,
     "metadata": {},
     "output_type": "execute_result"
    }
   ],
   "source": [
    "from embsec import Serial\n",
    "import struct\n",
    "from Crypto.Hash import HMAC, SHA256\n",
    "\n",
    "def hmac_generate():\n",
    "    ser = Serial(\"/embsec/hmac_python/hmac_generate\")\n",
    "    # Your code goes here!\n",
    "    \n",
    "    with open(\"hmackeyfile0.bin\", \"rb\") as f:\n",
    "        key0 = f.read()\n",
    "    data_size = struct.unpack('<h', ser.read(2))[0]\n",
    "    data = struct.unpack('<{}s'.format(data_size), ser.read(data_size))[0]\n",
    "\n",
    "    \n",
    "    h = HMAC.new(key0, digestmod=SHA256)\n",
    "    new_hmac = h.update(data)\n",
    "    \n",
    "    ser.write(new_hmac.digest())\n",
    "    \n",
    "    return ser.read_until()\n",
    "hmac_generate()\n"
   ]
  },
  {
   "cell_type": "code",
   "execution_count": 2,
   "metadata": {},
   "outputs": [
    {
     "name": "stdout",
     "output_type": "stream",
     "text": [
      "c3f33e3055bdc7534ba7d6d7c941dc0a039169510af95674f84f195759744205\n",
      "b\"\\x11A\\xda\\xfd\\x14F-\\xc3\\x9a>\\x11\\x07\\xe4\\x14\\x12\\xb3\\xad'\\x18Ify\\xae:\\x0fp\\x14\\x07\\xdc\\x87_I\"\n",
      "1141dafd14462dc39a3e1107e41412b3ad2718496679ae3a0f701407dc875f49\n"
     ]
    }
   ],
   "source": [
    "from Crypto.Hash import HMAC, SHA256\n",
    "secret = b'Swordfish'\n",
    "h = HMAC.new(secret, digestmod=SHA256)\n",
    "print(h.hexdigest())\n",
    "h.update(b'Hello')\n",
    "print(h.digest())\n",
    "print(h.hexdigest())"
   ]
  },
  {
   "cell_type": "markdown",
   "metadata": {},
   "source": [
    "### Challenge Name: hmac_verify (/embsec/hmac_python/hmac_verify)\n",
    "\n",
    "\n",
    "    The serial device will send you a series of messages in the format\n",
    "    described below. For each message you must check the attached signature \n",
    "    If verification fails, you must respond with a zero-byte '\\x00'. If \n",
    "    verification passes, you must respond with a one-byte '\\x01'. When the\n",
    "    length of the message you are about to receive is zero , read a newline-\n",
    "    terminated flag.\n",
    "\n",
    "    The serial device will send signed messages in the following format:\n",
    "\n",
    "    ----------------------------------------\n",
    "    [ 0x2 ] [  Size bytes    ] [   0x20   ]\n",
    "    ----------------------------------------\n",
    "    | Size |     Data         | HMAC(Data) |\n",
    "    ----------------------------------------\n",
    "\n"
   ]
  },
  {
   "cell_type": "code",
   "execution_count": 4,
   "metadata": {},
   "outputs": [
    {
     "name": "stdout",
     "output_type": "stream",
     "text": [
      "0\n",
      "0\n",
      "1\n",
      "0\n",
      "1\n",
      "1\n",
      "1\n",
      "0\n"
     ]
    },
    {
     "data": {
      "text/plain": [
       "'embsec{hmac_verify_85eecbb6339cc72c}\\n'"
      ]
     },
     "execution_count": 4,
     "metadata": {},
     "output_type": "execute_result"
    }
   ],
   "source": [
    "from embsec import Serial\n",
    "import struct\n",
    "from Crypto.Hash import HMAC, SHA256\n",
    "\n",
    "def hmac_verify():\n",
    "    ser = Serial(\"/embsec/hmac_python/hmac_verify\")\n",
    "    # Your code goes here!\n",
    "    with open(\"hmackeyfile1.bin\", \"rb\") as f:\n",
    "        key1 = f.read()\n",
    "    \n",
    "   \n",
    "    data_size = struct.unpack('<h', ser.read(2))[0]\n",
    "    while (data_size):\n",
    "\n",
    "        data = ser.read(data_size)\n",
    "        given_hmac = ser.read(32)\n",
    "        h = HMAC.new(key1, digestmod=SHA256)\n",
    "        h.update(data)\n",
    "        \n",
    "   \n",
    "        try:\n",
    "            h.verify(given_hmac)\n",
    "        except ValueError:\n",
    "            ser.write(b'\\x00')\n",
    "            print(\"0\")\n",
    "        else:\n",
    "            ser.write(b'\\x01')\n",
    "            print(\"1\")\n",
    "        \n",
    "        data_size = struct.unpack('<h', ser.read(2))[0]\n",
    "        \n",
    "\n",
    "    return ser.read_until().decode()\n",
    "\n",
    "hmac_verify()\n"
   ]
  },
  {
   "cell_type": "code",
   "execution_count": null,
   "metadata": {},
   "outputs": [],
   "source": []
  }
 ],
 "metadata": {
  "kernelspec": {
   "display_name": "Python 3",
   "language": "python",
   "name": "python3"
  },
  "language_info": {
   "codemirror_mode": {
    "name": "ipython",
    "version": 3
   },
   "file_extension": ".py",
   "mimetype": "text/x-python",
   "name": "python",
   "nbconvert_exporter": "python",
   "pygments_lexer": "ipython3",
   "version": "3.7.6"
  }
 },
 "nbformat": 4,
 "nbformat_minor": 4
}
