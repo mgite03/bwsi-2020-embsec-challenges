{
 "cells": [
  {
   "cell_type": "markdown",
   "metadata": {},
   "source": [
    "# Intro c\n",
    "\n",
    "In this lesson you will learn how to interact with the course system. This\n",
    "course is split up into a series of lessons each with specific learning goals.\n",
    "Each lesson contains a series of challenge for you to complete. The challenges\n",
    "will require you to learn from online resources such as https://docs.python.org/,\n",
    "https://en.cppreference.com/w/c/language, and, our favorite, https://stackoverflow.com/.\n",
    "\n",
    "After completing a given challenge, a flag will be awarded to you!\n"
   ]
  },
  {
   "cell_type": "markdown",
   "metadata": {},
   "source": [
    "### Challenge Name: read_example (/embsec/intro_c/read_example)\n",
    "\n",
    "These introductory C challenges somewhat mirror the serial device you\n",
    "interacted with in the introductory Python challenges. In `read_example`,\n",
    "you waited for a full line to be received from the serial connection. In this\n",
    "C version, you will be reading in the flag string from the serial port byte-by-byte\n",
    "and sending back a full string to the host. If you had two serial ports, you\n",
    "could think of this as receiving the flag from one device, and sending it to\n",
    "the other!\n",
    "\n",
    "To complete this challenge, you will need to use the serial communication\n",
    "functions in `uart.c`. Remember to `#include` the UART header file\n",
    "(`uart.h`) in your solution. Pay attention to the `if` statements in those\n",
    "functions; you may have to do some setup at the beginning of your program.\n",
    "The C challenges work differently from the Python challenges. You have to write\n",
    "your own C source file, where the name is determined by the challenge (you can\n",
    "see the expected file name in the python window below following `f'gcc`).\n",
    "For this challenge, a skeleton program has been provided for you that\n",
    "implements the necessary `main` function. In future challenges, you will\n",
    "likely have to make the file yourself.\n",
    "\n",
    "To complete this challenge, your solution must complete the following steps:\n",
    "\n",
    "    1. Read newline-terminated flag string from the host, byte-by-byte\n",
    "    2. Send the full flag as a string back to the host\n",
    "\n",
    "Resources:\n",
    "\n",
    "<https://docs.python.org/3/library/struct.html>\n",
    "\n",
    "\n"
   ]
  },
  {
   "cell_type": "code",
   "execution_count": 2,
   "metadata": {},
   "outputs": [
    {
     "ename": "CalledProcessError",
     "evalue": "Command '['(cd read_example && make CHALLENGE=read_example)']' returned non-zero exit status 2.",
     "output_type": "error",
     "traceback": [
      "\u001b[0;31m---------------------------------------------------------------------------\u001b[0m",
      "\u001b[0;31mCalledProcessError\u001b[0m                        Traceback (most recent call last)",
      "\u001b[0;32m<ipython-input-2-8cd13ec2e151>\u001b[0m in \u001b[0;36m<module>\u001b[0;34m\u001b[0m\n\u001b[1;32m      9\u001b[0m     \u001b[0;32mreturn\u001b[0m \u001b[0;34m(\u001b[0m\u001b[0mextract_flag\u001b[0m\u001b[0;34m(\u001b[0m\u001b[0mstdout\u001b[0m\u001b[0;34m)\u001b[0m\u001b[0;34m)\u001b[0m\u001b[0;34m\u001b[0m\u001b[0;34m\u001b[0m\u001b[0m\n\u001b[1;32m     10\u001b[0m \u001b[0;34m\u001b[0m\u001b[0m\n\u001b[0;32m---> 11\u001b[0;31m \u001b[0mread_example\u001b[0m\u001b[0;34m(\u001b[0m\u001b[0;34m)\u001b[0m\u001b[0;34m\u001b[0m\u001b[0;34m\u001b[0m\u001b[0m\n\u001b[0m\u001b[1;32m     12\u001b[0m \u001b[0;34m\u001b[0m\u001b[0m\n",
      "\u001b[0;32m<ipython-input-2-8cd13ec2e151>\u001b[0m in \u001b[0;36mread_example\u001b[0;34m()\u001b[0m\n\u001b[1;32m      4\u001b[0m \u001b[0;34m\u001b[0m\u001b[0m\n\u001b[1;32m      5\u001b[0m \u001b[0;32mdef\u001b[0m \u001b[0mread_example\u001b[0m\u001b[0;34m(\u001b[0m\u001b[0;34m)\u001b[0m\u001b[0;34m:\u001b[0m\u001b[0;34m\u001b[0m\u001b[0;34m\u001b[0m\u001b[0m\n\u001b[0;32m----> 6\u001b[0;31m     \u001b[0msubprocess\u001b[0m\u001b[0;34m.\u001b[0m\u001b[0mcheck_output\u001b[0m\u001b[0;34m(\u001b[0m\u001b[0;34m[\u001b[0m\u001b[0;34mf'(cd read_example && make CHALLENGE=read_example)'\u001b[0m\u001b[0;34m]\u001b[0m\u001b[0;34m,\u001b[0m \u001b[0mshell\u001b[0m\u001b[0;34m=\u001b[0m\u001b[0;32mTrue\u001b[0m\u001b[0;34m)\u001b[0m\u001b[0;34m\u001b[0m\u001b[0;34m\u001b[0m\u001b[0m\n\u001b[0m\u001b[1;32m      7\u001b[0m     \u001b[0mresp0\u001b[0m\u001b[0;34m,\u001b[0m \u001b[0mresp1\u001b[0m\u001b[0;34m,\u001b[0m \u001b[0mresp2\u001b[0m \u001b[0;34m=\u001b[0m \u001b[0membsec\u001b[0m\u001b[0;34m.\u001b[0m\u001b[0mgrade_emulated\u001b[0m\u001b[0;34m(\u001b[0m\u001b[0;34mf'./read_example/gcc/main.bin'\u001b[0m\u001b[0;34m,\u001b[0m \u001b[0;34mf'/embsec/intro_c/read_example'\u001b[0m\u001b[0;34m)\u001b[0m\u001b[0;34m\u001b[0m\u001b[0;34m\u001b[0m\u001b[0m\n\u001b[1;32m      8\u001b[0m     \u001b[0mstdout\u001b[0m\u001b[0;34m,\u001b[0m \u001b[0mstdin\u001b[0m \u001b[0;34m=\u001b[0m \u001b[0mresp2\u001b[0m\u001b[0;34m\u001b[0m\u001b[0;34m\u001b[0m\u001b[0m\n",
      "\u001b[0;32m/opt/conda/lib/python3.7/subprocess.py\u001b[0m in \u001b[0;36mcheck_output\u001b[0;34m(timeout, *popenargs, **kwargs)\u001b[0m\n\u001b[1;32m    409\u001b[0m \u001b[0;34m\u001b[0m\u001b[0m\n\u001b[1;32m    410\u001b[0m     return run(*popenargs, stdout=PIPE, timeout=timeout, check=True,\n\u001b[0;32m--> 411\u001b[0;31m                **kwargs).stdout\n\u001b[0m\u001b[1;32m    412\u001b[0m \u001b[0;34m\u001b[0m\u001b[0m\n\u001b[1;32m    413\u001b[0m \u001b[0;34m\u001b[0m\u001b[0m\n",
      "\u001b[0;32m/opt/conda/lib/python3.7/subprocess.py\u001b[0m in \u001b[0;36mrun\u001b[0;34m(input, capture_output, timeout, check, *popenargs, **kwargs)\u001b[0m\n\u001b[1;32m    510\u001b[0m         \u001b[0;32mif\u001b[0m \u001b[0mcheck\u001b[0m \u001b[0;32mand\u001b[0m \u001b[0mretcode\u001b[0m\u001b[0;34m:\u001b[0m\u001b[0;34m\u001b[0m\u001b[0;34m\u001b[0m\u001b[0m\n\u001b[1;32m    511\u001b[0m             raise CalledProcessError(retcode, process.args,\n\u001b[0;32m--> 512\u001b[0;31m                                      output=stdout, stderr=stderr)\n\u001b[0m\u001b[1;32m    513\u001b[0m     \u001b[0;32mreturn\u001b[0m \u001b[0mCompletedProcess\u001b[0m\u001b[0;34m(\u001b[0m\u001b[0mprocess\u001b[0m\u001b[0;34m.\u001b[0m\u001b[0margs\u001b[0m\u001b[0;34m,\u001b[0m \u001b[0mretcode\u001b[0m\u001b[0;34m,\u001b[0m \u001b[0mstdout\u001b[0m\u001b[0;34m,\u001b[0m \u001b[0mstderr\u001b[0m\u001b[0;34m)\u001b[0m\u001b[0;34m\u001b[0m\u001b[0;34m\u001b[0m\u001b[0m\n\u001b[1;32m    514\u001b[0m \u001b[0;34m\u001b[0m\u001b[0m\n",
      "\u001b[0;31mCalledProcessError\u001b[0m: Command '['(cd read_example && make CHALLENGE=read_example)']' returned non-zero exit status 2."
     ]
    }
   ],
   "source": [
    "import embsec\n",
    "import subprocess\n",
    "from core.util import extract_flag\n",
    "\n",
    "def read_example():\n",
    "    subprocess.check_output([f'(cd read_example && make CHALLENGE=read_example)'], shell=True)\n",
    "    resp0, resp1, resp2 = embsec.grade_emulated(f'./read_example/gcc/main.bin', f'/embsec/intro_c/read_example')\n",
    "    stdout, stdin = resp2\n",
    "    return (extract_flag(stdout))\n",
    "    \n",
    "read_example()\n",
    "\n"
   ]
  },
  {
   "cell_type": "markdown",
   "metadata": {},
   "source": [
    "### Challenge Name: write_example (/embsec/intro_c/write_example)\n",
    "\n",
    "This challenge is similar to the previous one. The same setup applies to\n",
    "this one! The functionality to implement is listed below:\n",
    "\n",
    "    1. Write a newline-terminated string to the host\n",
    "    2. Read newline-terminated flag string from the host, byte-by-byte\n",
    "    3. Send the full flag as a string back to the host\n",
    "\n",
    "Resources:\n",
    "\n",
    "<https://docs.python.org/3/library/struct.html>\n",
    "\n",
    "\n"
   ]
  },
  {
   "cell_type": "code",
   "execution_count": null,
   "metadata": {},
   "outputs": [],
   "source": [
    "import embsec\n",
    "import subprocess\n",
    "from core.util import extract_flag\n",
    "\n",
    "def write_example():\n",
    "    subprocess.check_output([f'(cd write_example && make CHALLENGE=write_example)'], shell=True)\n",
    "    resp0, resp1, resp2 = embsec.grade_emulated(f'./write_example/gcc/main.bin', f'/embsec/intro_c/write_example')\n",
    "    stdout, stdin = resp2\n",
    "    return (extract_flag(stdout))\n",
    "    \n",
    "write_example()\n",
    "\n"
   ]
  }
 ],
 "metadata": {
  "kernelspec": {
   "display_name": "Python 3",
   "language": "python",
   "name": "python3"
  },
  "language_info": {
   "codemirror_mode": {
    "name": "ipython",
    "version": 3
   },
   "file_extension": ".py",
   "mimetype": "text/x-python",
   "name": "python",
   "nbconvert_exporter": "python",
   "pygments_lexer": "ipython3",
   "version": "3.7.6"
  }
 },
 "nbformat": 4,
 "nbformat_minor": 4
}
